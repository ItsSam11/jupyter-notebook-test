{
    "cells": [
        {
            "metadata": {
                "collapsed": true
            },
            "cell_type": "markdown",
            "source": "<h1>My Jupyter Notebook on IBM Watson Studio</h1>"
        },
        {
            "metadata": {},
            "cell_type": "markdown",
            "source": "<b>Marwan Samuel Flores Orozco</b>\n\nMy desired occupation is to be a Data Scientists"
        },
        {
            "metadata": {},
            "cell_type": "markdown",
            "source": "<i>I am interested in data science because i want to relate my programming skills with theoretical physics, data science can help me with understanding data and based on that create AI that will help in the theoretical physics field. At least that's the idea </i>"
        },
        {
            "metadata": {},
            "cell_type": "markdown",
            "source": "<h3>The following code is an example of slicing an specific string in a index in a list in python 3</h3>"
        },
        {
            "metadata": {
                "scrolled": true
            },
            "cell_type": "code",
            "source": "# for example lets say that we want an specific string in a index in a given list \ud83d\udc47\nstring = [\"From\", \"stephen.marquard@uct.ac.za\", \"Sat\", \"Jan\",  5, \"09:14:16\", 2008] \n# To keep in mind: When you declare a list in Python and you want to initialize an hour just like I did above you need to set it as a string because\n# leading zeros in decimal integer literals are not permitted, so a way to solve that problem is just to set is as a string in that index.\n# So, lets say that we want to print just the sign with the domain name(@uct.ac.za), in this case it will be in the  \n# index1(remember in programming we start counting in 0)\n# For do that we will need to use slices, so we can do the follow:\nprint(string[1][16:])\n# As we can see below the code above print exactly what we want, remember [i] indicate the index position that we want in the list and for slicing we \n# use the following structure [start:end:steps], we indicate the start of the position in 16 and we don't indicate the end position because is not necessary since \n# there is anything left in that index.\n# In case you're wondering, the 'steps' above in the slice structure, it just help us to slice in given steps, that could be n number.",
            "execution_count": 5,
            "outputs": [
                {
                    "output_type": "stream",
                    "text": "@uct.ac.za\n",
                    "name": "stdout"
                }
            ]
        },
        {
            "metadata": {},
            "cell_type": "markdown",
            "source": "<ul>\n  <b>\n  <li>Coffee</li>\n  <li>Tea</li>\n  <li>Milk</li>\n    </b>\n</ul>\n\n<img src=\"https://i.ibb.co/Lzc1yns/Berserk.png\" width=\"400\" height=\"400\"/>\n<a href='https://manga.fandom.com/wiki/Berserk_(manga)'>This is a link to know the Berserk plot</a>\n<i>Open it in a new window</i>"
        }
    ],
    "metadata": {
        "kernelspec": {
            "name": "python3",
            "display_name": "Python 3.10",
            "language": "python"
        },
        "language_info": {
            "name": "python",
            "version": "3.10.6",
            "mimetype": "text/x-python",
            "codemirror_mode": {
                "name": "ipython",
                "version": 3
            },
            "pygments_lexer": "ipython3",
            "nbconvert_exporter": "python",
            "file_extension": ".py"
        }
    },
    "nbformat": 4,
    "nbformat_minor": 1
}
